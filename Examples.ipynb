{
 "cells": [
  {
   "cell_type": "code",
   "execution_count": null,
   "id": "c652164f-76eb-42e6-96a0-76a5857404e4",
   "metadata": {},
   "outputs": [],
   "source": []
  }
 ],
 "metadata": {
  "kernelspec": {
   "display_name": "",
   "name": ""
  },
  "language_info": {
   "name": ""
  }
 },
 "nbformat": 4,
 "nbformat_minor": 5
}
